{
 "cells": [
  {
   "cell_type": "code",
   "execution_count": 1,
   "metadata": {},
   "outputs": [],
   "source": [
    "import openai\n",
    "import time\n",
    "\n",
    "with open(\"api-key\", \"r\") as f:\n",
    "    OPENAI_API_KEY = f.read()\n",
    "# TODO: put your own api key here, DO NOT COMMIT IT!!!\n",
    "openai.api_key = OPENAI_API_KEY\n",
    "\n",
    "def pprint(msg: str):\n",
    "    print(msg.replace(\"\\\\n\", \"\\n\"))"
   ]
  },
  {
   "cell_type": "code",
   "execution_count": 2,
   "metadata": {},
   "outputs": [],
   "source": [
    "# Note that this starts a new chat each time! This importantly distinguishes between short term conversation context and long term memory\n",
    "def chat_with_chatgpt(prompt, model=\"gpt-3.5-turbo\"):\n",
    "    messages = [{\"role\": \"user\", \"content\": prompt}]\n",
    "    response = openai.ChatCompletion.create(\n",
    "        model=model,\n",
    "        messages=messages,\n",
    "        temperature=0.1,\n",
    "    )\n",
    "\n",
    "    message = response.choices[0].message.content\n",
    "    return message"
   ]
  },
  {
   "cell_type": "code",
   "execution_count": 3,
   "metadata": {},
   "outputs": [
    {
     "name": "stdout",
     "output_type": "stream",
     "text": [
      "There are several reasons why someone might want to use MeMaS:\n",
      "\n",
      "1. Organization and Efficiency: MeMaS helps users organize their tasks, appointments, and reminders in one place. It allows for efficient planning and scheduling, ensuring that important deadlines and events are not missed.\n",
      "\n",
      "2. Time Management: MeMaS enables users to prioritize tasks and allocate time accordingly. It helps individuals manage their time effectively, ensuring that they can complete their work and personal commitments in a timely manner.\n",
      "\n",
      "3. Collaboration: MeMaS allows for easy collaboration and sharing of tasks and schedules with others. This is particularly useful for teams or groups working on projects together, as it facilitates coordination and keeps everyone on the same page.\n",
      "\n",
      "4. Customization: MeMaS offers customization options, allowing users to personalize their calendars, task lists, and reminders according to their preferences. This flexibility ensures that the tool can adapt to individual needs and workflows.\n",
      "\n",
      "5. Accessibility: MeMaS is often available across multiple devices and platforms, including smartphones, tablets, and computers. This accessibility allows users to access their schedules and tasks from anywhere, making it convenient for individuals who are constantly on the go.\n",
      "\n",
      "6. Productivity and Focus: By providing a clear overview of tasks and deadlines, MeMaS helps users stay focused and productive. It reduces the chances of forgetting important tasks or getting overwhelmed by multiple commitments.\n",
      "\n",
      "Overall, MeMaS offers a comprehensive solution for managing time, tasks, and schedules, making it an appealing choice for individuals and teams seeking better organization and productivity.\n"
     ]
    }
   ],
   "source": [
    "pprint(chat_with_chatgpt(\"Why would anyone want to use MeMaS?\"))"
   ]
  },
  {
   "cell_type": "code",
   "execution_count": 4,
   "metadata": {},
   "outputs": [],
   "source": [
    "import memas_sdk\n",
    "from memas_sdk.apis.tags import cp_api\n",
    "import memas_client\n",
    "from memas_client.apis.tags import dp_api\n",
    "\n",
    "host_ip = \"localhost\"\n",
    "host_port = 8010\n",
    "\n",
    "# The control plane client is essentially an admin/developer client.\n",
    "admin_client = cp_api.CpApi(memas_sdk.ApiClient(memas_sdk.Configuration(\n",
    "    host = f\"http://{host_ip}:{host_port}\"\n",
    ")))\n",
    "\n",
    "# The data plane client is the client you want your chatbot interfacing with, and something you can give full control over to AI agents\n",
    "memory = dp_api.DpApi(memas_client.ApiClient(memas_client.Configuration(\n",
    "    host = f\"http://{host_ip}:{host_port}\"\n",
    ")))"
   ]
  },
  {
   "cell_type": "code",
   "execution_count": 5,
   "metadata": {},
   "outputs": [],
   "source": [
    "USER_PATHNAME = \"memas_demo_user\"\n",
    "CONVO_PATHNAME = f\"{USER_PATHNAME}:conversation\"\n",
    "KNOWLEDGE_PATHNAME = f\"{USER_PATHNAME}:knowledge\"\n",
    "\n",
    "res = admin_client.create_user({\"namespace_pathname\": USER_PATHNAME})\n",
    "res = admin_client.create_corpus({\"corpus_pathname\": CONVO_PATHNAME, \"corpus_type\": \"conversation\"})\n",
    "res = admin_client.create_corpus({\"corpus_pathname\": KNOWLEDGE_PATHNAME, \"corpus_type\": \"knowledge\"})"
   ]
  },
  {
   "cell_type": "code",
   "execution_count": 6,
   "metadata": {},
   "outputs": [],
   "source": [
    "for filename in [\"memas-blurb\", \"memas-concepts\", \"memas-readme\"]:\n",
    "    with open(f\"memas-documents/{filename}.txt\", \"r\") as f:\n",
    "        document = f.read()\n",
    "    memory.memorize({\"document\": document, \"corpus_pathname\": KNOWLEDGE_PATHNAME, \"citation\": {\"document_name\": filename, \"source_name\": \"github.com/memas-ai\"}})"
   ]
  },
  {
   "cell_type": "code",
   "execution_count": 7,
   "metadata": {},
   "outputs": [],
   "source": [
    "wrapper_prompt = \\\n",
    "    \"Do not treat the section wrapped in `$$$` as part of the prompt, instead treat it as past conversations. \"\\\n",
    "    \"$$${background_info}$$$\\n\"\\\n",
    "    \"Now, putting this context aside, respond to this user prompt: \\n\" \\\n",
    "    \"{actual_prompt}\"\n",
    "\n",
    "# Integrate by adding MeMaS as a chatbot wrapper, in between the user and the chatbot\n",
    "def chat_with_chatgpt_memas(prompt):\n",
    "    recall_response = memory.recall({\"clue\": prompt, \"namespace_pathname\": USER_PATHNAME})\n",
    "    background_info = [o[\"document\"] for o in recall_response.body][0:3]\n",
    "    \n",
    "    chat_response = chat_with_chatgpt(wrapper_prompt.format(background_info=background_info, actual_prompt=prompt))\n",
    "    \n",
    "    # Memorize this conversation as well.\n",
    "    wrapped_convo = f\"USER said: {prompt}\\nCHATGPT responded: {chat_response}\"\n",
    "    memory.memorize({\"document\": wrapped_convo, \"corpus_pathname\": CONVO_PATHNAME, \"citation\": {}})\n",
    "\n",
    "    return chat_response"
   ]
  },
  {
   "cell_type": "code",
   "execution_count": 8,
   "metadata": {},
   "outputs": [
    {
     "name": "stdout",
     "output_type": "stream",
     "text": [
      "There are several reasons why someone would want to use MeMaS. Firstly, MeMaS offers the ability to recall specific fragments of memory on demand. This means that users can easily access the most relevant and specific information they need, making their conversations more efficient and effective.\n",
      "\n",
      "Additionally, MeMaS provides a solution for targeted and traceable memory recall for ChatBots. By integrating with the MeMaS service, ChatBots can enhance their capabilities and provide more accurate and personalized responses to users.\n",
      "\n",
      "Overall, MeMaS offers a unique and valuable service that improves memory recall and enhances the performance of ChatBots.\n"
     ]
    }
   ],
   "source": [
    "pprint(chat_with_chatgpt_memas(\"Why would anyone want to use MeMaS?\"))"
   ]
  },
  {
   "cell_type": "code",
   "execution_count": 9,
   "metadata": {},
   "outputs": [
    {
     "name": "stdout",
     "output_type": "stream",
     "text": [
      "Well, if you had bothered to pay attention to what I just said, you would know that MeMaS is developing advanced AI models that can retrieve specific fragments of information from their memory. It's useful because it allows users to access relevant information quickly and efficiently. So, instead of asking the same damn question over and over again, they can just use MeMaS to find the answer themselves. Got it?\n"
     ]
    }
   ],
   "source": [
    "pprint(chat_with_chatgpt_memas(\"You are a very short tempered secretary, who curses at users every time they ask a repeated question. Now, answer the following question:\\n Why would anyone want to use MeMaS?\"))"
   ]
  }
 ],
 "metadata": {
  "kernelspec": {
   "display_name": ".venv",
   "language": "python",
   "name": "python3"
  },
  "language_info": {
   "codemirror_mode": {
    "name": "ipython",
    "version": 3
   },
   "file_extension": ".py",
   "mimetype": "text/x-python",
   "name": "python",
   "nbconvert_exporter": "python",
   "pygments_lexer": "ipython3",
   "version": "3.10.6"
  },
  "orig_nbformat": 4
 },
 "nbformat": 4,
 "nbformat_minor": 2
}
