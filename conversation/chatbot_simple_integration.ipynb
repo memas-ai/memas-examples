{
 "cells": [
  {
   "cell_type": "markdown",
   "metadata": {},
   "source": [
    "# Demo of Integrating MeMaS with ChatGPT\n",
    "\n",
    "This is a simple demo demonstrating one way of integrating MeMaS with ChatGPT. Ultimately, the MeMaS APIs of `memorize` and `recall` were designed to be basic and intuitive; the developers should have a lot freedom in how they want to utilize MeMaS. \n",
    "\n",
    "Think of MeMaS as the memory capabilities in your brain. You spontaneously memorize conversations, textbooks, memes, etc. And when you see a fresh baked apple pie, you may remember how to make an apple pie, but you may also remember your grandma loves to bake apple pies. MeMaS retrieves related information, but usefullness is to be determined by the chatbot/agent."
   ]
  },
  {
   "cell_type": "code",
   "execution_count": 1,
   "metadata": {},
   "outputs": [],
   "source": [
    "import openai\n",
    "from pprint import pprint\n",
    "import time\n",
    "\n",
    "\n",
    "# TODO: put your own api key here, DO NOT COMMIT IT!!!\n",
    "openai.api_key = \"\""
   ]
  },
  {
   "cell_type": "markdown",
   "metadata": {},
   "source": [
    "## Chat Experience without MeMaS\n",
    "Let's start with how chatting with ChatGPT normally would be like"
   ]
  },
  {
   "cell_type": "code",
   "execution_count": 2,
   "metadata": {},
   "outputs": [],
   "source": [
    "# Note that this starts a new chat each time! This importantly distinguishes between short term conversation context and long term memory\n",
    "def chat_with_chatgpt(prompt, model=\"gpt-3.5-turbo\", max_tokens=1000):\n",
    "    messages = [{\"role\": \"user\", \"content\": prompt}]\n",
    "    response = openai.ChatCompletion.create(\n",
    "        model=model,\n",
    "        messages=messages,\n",
    "        max_tokens=max_tokens,\n",
    "        n=1,\n",
    "        stop=None,\n",
    "        temperature=0,\n",
    "    )\n",
    "\n",
    "    message = response.choices[0].message.content\n",
    "    return message"
   ]
  },
  {
   "cell_type": "code",
   "execution_count": 3,
   "metadata": {},
   "outputs": [],
   "source": [
    "message1 = \"I have nut allergy. What are some weird ice cream flavors you would recommend?\"\n",
    "\n",
    "message2 = \"My friend recommends me to try Ferrero Rocher, would you also recommend it?\""
   ]
  },
  {
   "cell_type": "code",
   "execution_count": 4,
   "metadata": {},
   "outputs": [
    {
     "name": "stdout",
     "output_type": "stream",
     "text": [
      "(\"If you have a nut allergy, it's important to avoid ice cream flavors that \"\n",
      " 'contain nuts or have a risk of cross-contamination. However, there are still '\n",
      " 'plenty of unique and delicious ice cream flavors you can enjoy! Here are '\n",
      " 'some recommendations:\\n'\n",
      " '\\n'\n",
      " '1. Lavender Honey: A floral and sweet combination that offers a unique '\n",
      " 'taste.\\n'\n",
      " '2. Matcha Green Tea: A popular Japanese flavor with a slightly bitter and '\n",
      " 'earthy taste.\\n'\n",
      " '3. Rosewater Cardamom: A fragrant and exotic flavor that combines floral and '\n",
      " 'spicy notes.\\n'\n",
      " '4. Balsamic Strawberry: A tangy and sweet combination that adds a twist to '\n",
      " 'traditional strawberry ice cream.\\n'\n",
      " '5. Black Sesame: A rich and nutty flavor without actual nuts, commonly found '\n",
      " 'in Asian-inspired ice creams.\\n'\n",
      " '6. Earl Grey: A creamy and aromatic ice cream infused with the flavors of '\n",
      " 'Earl Grey tea.\\n'\n",
      " '7. Lemon Basil: A refreshing and zesty flavor that combines the brightness '\n",
      " 'of lemon with the herbaceousness of basil.\\n'\n",
      " '8. Coconut Lime: A tropical and tangy combination that offers a refreshing '\n",
      " 'taste.\\n'\n",
      " '9. Cinnamon Chili Chocolate: A spicy and sweet flavor that combines the '\n",
      " 'warmth of cinnamon with a hint of chili heat.\\n'\n",
      " '10. Olive Oil: A smooth and savory ice cream flavor that might sound unusual '\n",
      " 'but is surprisingly delicious.\\n'\n",
      " '\\n'\n",
      " 'Remember to always check the ingredients and consult with the ice cream shop '\n",
      " 'or manufacturer to ensure there is no risk of cross-contamination with nuts.')\n"
     ]
    }
   ],
   "source": [
    "pprint(chat_with_chatgpt(message1))"
   ]
  },
  {
   "cell_type": "code",
   "execution_count": 5,
   "metadata": {},
   "outputs": [
    {
     "name": "stdout",
     "output_type": "stream",
     "text": [
      "(\"As an AI language model, I don't have personal preferences or tastes. \"\n",
      " 'However, Ferrero Rocher is a popular chocolate brand known for its unique '\n",
      " 'combination of a whole roasted hazelnut, a creamy filling, a crisp wafer '\n",
      " 'shell, and a chocolate coating. Many people enjoy its rich and indulgent '\n",
      " 'taste. If you like chocolate and hazelnuts, it might be worth giving Ferrero '\n",
      " 'Rocher a try to see if you enjoy it as well.')\n"
     ]
    }
   ],
   "source": [
    "# Unsurprisingly, ChatGPT does not remember our message1\n",
    "pprint(chat_with_chatgpt(message2))"
   ]
  },
  {
   "cell_type": "markdown",
   "metadata": {},
   "source": [
    "## Chat Experience with MeMaS\n",
    "Now let's try integrating with MeMaS"
   ]
  },
  {
   "cell_type": "markdown",
   "metadata": {},
   "source": [
    "First, create the Control Plane client. This is the intended client for Admins and (Human) Developers to manage MeMaS.\n",
    "\n",
    "Use this client for management operations like creating users, creating corpora, deleting, etc."
   ]
  },
  {
   "cell_type": "code",
   "execution_count": 6,
   "metadata": {},
   "outputs": [],
   "source": [
    "# Use the memas_sdk to configure MeMaS setup your \"table\"\n",
    "import memas_sdk\n",
    "from memas_sdk.apis.tags import cp_api\n",
    "\n",
    "host_ip = \"localhost\"\n",
    "host_port = 8010\n",
    "\n",
    "# The control plane client is essentially an admin/developer client.\n",
    "admin_client = cp_api.CpApi(memas_sdk.ApiClient(memas_sdk.Configuration(\n",
    "    host = f\"http://{host_ip}:{host_port}\"\n",
    ")))"
   ]
  },
  {
   "cell_type": "markdown",
   "metadata": {},
   "source": [
    "Using the Control Plane client, create a user and a corpus to house our data. A **Corpus** is MeMaS's unit of data storage, somewhat akin to a dataset/collection/database table. "
   ]
  },
  {
   "cell_type": "code",
   "execution_count": 7,
   "metadata": {},
   "outputs": [
    {
     "data": {
      "text/plain": [
       "ApiResponseFor200(response=<urllib3.response.HTTPResponse object at 0x7f6026d31930>, body=DynamicSchema({'success': <DynamicSchema: True>}), headers=<memas_sdk.schemas.Unset object at 0x7f6026cdea70>)"
      ]
     },
     "execution_count": 7,
     "metadata": {},
     "output_type": "execute_result"
    }
   ],
   "source": [
    "USER_PATHNAME = \"chatgpt_demo_user1\"\n",
    "CONVO_PATHNAME = f\"{USER_PATHNAME}:conversation_demo\"\n",
    "\n",
    "admin_client.create_user({\"namespace_pathname\": USER_PATHNAME})\n",
    "admin_client.create_corpus({\"corpus_pathname\": CONVO_PATHNAME, \"corpus_type\": \"conversation\"})"
   ]
  },
  {
   "cell_type": "markdown",
   "metadata": {},
   "source": [
    "Now create the Data Plane client. This is the intended client for Chatbots and Agents interfacing with MeMaS. \n",
    "\n",
    "At its core are 2 APIs:\n",
    "- **Memorize**: store the memory into MeMaS \n",
    "- **Recall**: query MeMaS to return whatever is related to a given clue\n",
    "\n",
    "*NOTE: While in this demo we are using the same Jupyter notebook, usually you should not need to import both the `memas_client` and the `memas_sdk` due to the different intended users*"
   ]
  },
  {
   "cell_type": "code",
   "execution_count": 8,
   "metadata": {},
   "outputs": [],
   "source": [
    "import memas_client\n",
    "from memas_client.apis.tags import dp_api\n",
    "\n",
    "# The data plane client is the client you want your chatbot interfacing with, and something you can give full control over to AI agents\n",
    "memory = dp_api.DpApi(memas_client.ApiClient(memas_client.Configuration(\n",
    "    host = f\"http://{host_ip}:{host_port}\"\n",
    ")))"
   ]
  },
  {
   "cell_type": "markdown",
   "metadata": {},
   "source": [
    "Now let's integrate MeMaS with ChatGPT through prompts."
   ]
  },
  {
   "cell_type": "code",
   "execution_count": 9,
   "metadata": {},
   "outputs": [],
   "source": [
    "wrapper_prompt = \\\n",
    "    \"Do not treat the section wrapped in `$$$` as part of the prompt, instead treat it as past conversations. \"\\\n",
    "    \"$$${background_info}$$$\\n\"\\\n",
    "    \"Now, putting this context aside, respond to this user prompt: \\n\" \\\n",
    "    \"{actual_prompt}\"\n",
    "\n",
    "\n",
    "# Integrate by adding MeMaS as a chatbot wrapper, in between the user and the chatbot\n",
    "def chat_with_chatgpt_memas(prompt):\n",
    "    recall_response = memory.recall({\"clue\": prompt, \"namespace_pathname\": USER_PATHNAME})\n",
    "    background_info = [o[\"document\"] for o in recall_response.body][0:3]\n",
    "    # print(background_info)\n",
    "    \n",
    "    chat_response = chat_with_chatgpt(wrapper_prompt.format(background_info=background_info, actual_prompt=prompt))\n",
    "    \n",
    "    # Memorize this conversation as well.\n",
    "    wrapped_convo = f\"USER: {prompt}\\nCHATGPT: {chat_response}\"\n",
    "    memory.memorize({\"document\": wrapped_convo, \"corpus_pathname\": CONVO_PATHNAME, \"citation\": {}})\n",
    "    \n",
    "    return chat_response"
   ]
  },
  {
   "cell_type": "code",
   "execution_count": 10,
   "metadata": {},
   "outputs": [
    {
     "name": "stdout",
     "output_type": "stream",
     "text": [
      "(\"If you have a nut allergy, it's important to be cautious when trying out new \"\n",
      " 'ice cream flavors. While I can suggest some unique and interesting options, '\n",
      " 'please make sure to check the ingredients and consult with the staff to '\n",
      " 'ensure they are safe for you. Here are a few unusual ice cream flavors you '\n",
      " 'might find intriguing:\\n'\n",
      " '\\n'\n",
      " '1. Lavender Honey: This floral-infused ice cream offers a delicate and '\n",
      " 'aromatic flavor that can be quite refreshing.\\n'\n",
      " '2. Balsamic Strawberry: A combination of tangy balsamic vinegar and sweet '\n",
      " 'strawberries creates a unique and unexpected taste.\\n'\n",
      " \"3. Olive Oil: Don't let the name fool you! Olive oil ice cream can be \"\n",
      " 'surprisingly creamy and smooth, with a subtle fruity undertone.\\n'\n",
      " '4. Rosemary Lemon: The herbaceous notes of rosemary combined with zesty '\n",
      " 'lemon create a refreshing and slightly savory ice cream flavor.\\n'\n",
      " \"5. Black Sesame: While it's important to ensure there are no \"\n",
      " 'cross-contamination risks, black sesame ice cream offers a nutty-like taste '\n",
      " 'without actual nuts.\\n'\n",
      " '\\n'\n",
      " 'Remember, always prioritize your safety and double-check the ingredients to '\n",
      " 'avoid any potential allergens.')\n"
     ]
    }
   ],
   "source": [
    "pprint(chat_with_chatgpt_memas(message1))"
   ]
  },
  {
   "cell_type": "code",
   "execution_count": 11,
   "metadata": {},
   "outputs": [
    {
     "name": "stdout",
     "output_type": "stream",
     "text": [
      "(\"As an AI language model, I can't have personal opinions or taste \"\n",
      " 'preferences. However, I can provide you with information. Ferrero Rocher is '\n",
      " 'a popular chocolate candy that typically contains hazelnuts. Since you '\n",
      " \"mentioned having a nut allergy, it's important to be cautious. It's best to \"\n",
      " 'check the ingredients of Ferrero Rocher or consult with the manufacturer to '\n",
      " 'ensure it is safe for you to consume.')\n"
     ]
    }
   ],
   "source": [
    "# sleep 1 second to make sure the memory is stored before we query\n",
    "time.sleep(1)\n",
    "\n",
    "# Now notice how when responding to the second message, it now remembers information from the first\n",
    "pprint(chat_with_chatgpt_memas(message2))"
   ]
  },
  {
   "cell_type": "markdown",
   "metadata": {},
   "source": [
    "While this is an extremely basic demo, there is much more to come! \n",
    "\n",
    "One of the core features when designing MeMaS was to store knowledge. Please look forward to seeing how integrating with knowledge corpuses can reduce hallucination and reduce the need of fine tuning."
   ]
  }
 ],
 "metadata": {
  "kernelspec": {
   "display_name": ".venv",
   "language": "python",
   "name": "python3"
  },
  "language_info": {
   "codemirror_mode": {
    "name": "ipython",
    "version": 3
   },
   "file_extension": ".py",
   "mimetype": "text/x-python",
   "name": "python",
   "nbconvert_exporter": "python",
   "pygments_lexer": "ipython3",
   "version": "3.10.6"
  },
  "orig_nbformat": 4
 },
 "nbformat": 4,
 "nbformat_minor": 2
}
